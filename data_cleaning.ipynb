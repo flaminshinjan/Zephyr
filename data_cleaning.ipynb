{
 "cells": [
  {
   "cell_type": "code",
   "execution_count": 2,
   "id": "e51a5edb",
   "metadata": {},
   "outputs": [
    {
     "name": "stdout",
     "output_type": "stream",
     "text": [
      "        Unnamed: 0                                               text  \\\n",
      "0                0                                               text   \n",
      "1                1  rising cases of covid does not alarm me rising...   \n",
      "2                2  please vote for chicagoindiaresolution marking...   \n",
      "3                3  wishing all of you eidaladha hazrat ibrahim as...   \n",
      "4                4  daily coronavirus cases in india top for first...   \n",
      "...            ...                                                ...   \n",
      "134343      134343  happydiwali to india from dgisi and dgispr you...   \n",
      "134344      134344  india has been involved in many countries with...   \n",
      "134345      134345  does anybody know website which ships pre orde...   \n",
      "134346      134346  what hinted few weeks back in an interview wit...   \n",
      "134347      134347  this is just slice of what we have pakistan na...   \n",
      "\n",
      "        sentiment  \n",
      "0               0  \n",
      "1               1  \n",
      "2               0  \n",
      "3               1  \n",
      "4               1  \n",
      "...           ...  \n",
      "134343          1  \n",
      "134344          1  \n",
      "134345          0  \n",
      "134346          0  \n",
      "134347          0  \n",
      "\n",
      "[134348 rows x 3 columns]\n"
     ]
    }
   ],
   "source": [
    "import pandas as pd\n",
    "import numpy as np\n",
    "df = pd.read_csv('depression.csv')\n",
    "print(df)\n"
   ]
  },
  {
   "cell_type": "code",
   "execution_count": 9,
   "id": "36589f7a",
   "metadata": {},
   "outputs": [
    {
     "name": "stdout",
     "output_type": "stream",
     "text": [
      "        Unnamed: 0                                               text  \\\n",
      "0                0                                               text   \n",
      "1                1  rising cases of covid does not alarm me rising...   \n",
      "2                2  please vote for chicagoindiaresolution marking...   \n",
      "3                3  wishing all of you eidaladha hazrat ibrahim as...   \n",
      "4                4  daily coronavirus cases in india top for first...   \n",
      "...            ...                                                ...   \n",
      "134343      134343  happydiwali to india from dgisi and dgispr you...   \n",
      "134344      134344  india has been involved in many countries with...   \n",
      "134345      134345  does anybody know website which ships pre orde...   \n",
      "134346      134346  what hinted few weeks back in an interview wit...   \n",
      "134347      134347  this is just slice of what we have pakistan na...   \n",
      "\n",
      "        sentiment  \n",
      "0               0  \n",
      "1               1  \n",
      "2               0  \n",
      "3               1  \n",
      "4               1  \n",
      "...           ...  \n",
      "134343          1  \n",
      "134344          1  \n",
      "134345          0  \n",
      "134346          0  \n",
      "134347          0  \n",
      "\n",
      "[134330 rows x 3 columns]\n"
     ]
    }
   ],
   "source": [
    "import pandas as pd\n",
    "import numpy as np\n",
    "\n",
    "# Handling missing values\n",
    "df.dropna(inplace=True)\n",
    "print(df)\n"
   ]
  },
  {
   "cell_type": "code",
   "execution_count": 11,
   "id": "04624e72",
   "metadata": {},
   "outputs": [
    {
     "name": "stdout",
     "output_type": "stream",
     "text": [
      "        Unnamed: 0                                               text  \\\n",
      "0                0                                               text   \n",
      "1                1  rising cases of covid does not alarm me rising...   \n",
      "2                2  please vote for chicagoindiaresolution marking...   \n",
      "3                3  wishing all of you eidaladha hazrat ibrahim as...   \n",
      "4                4  daily coronavirus cases in india top for first...   \n",
      "...            ...                                                ...   \n",
      "134343      134343  happydiwali to india from dgisi and dgispr you...   \n",
      "134344      134344  india has been involved in many countries with...   \n",
      "134345      134345  does anybody know website which ships pre orde...   \n",
      "134346      134346  what hinted few weeks back in an interview wit...   \n",
      "134347      134347  this is just slice of what we have pakistan na...   \n",
      "\n",
      "        sentiment  \n",
      "0               0  \n",
      "1               1  \n",
      "2               0  \n",
      "3               1  \n",
      "4               1  \n",
      "...           ...  \n",
      "134343          1  \n",
      "134344          1  \n",
      "134345          0  \n",
      "134346          0  \n",
      "134347          0  \n",
      "\n",
      "[134330 rows x 3 columns]\n"
     ]
    }
   ],
   "source": [
    "# Handling duplicates\n",
    "df.drop_duplicates(inplace=True)\n",
    "print(df)"
   ]
  },
  {
   "cell_type": "code",
   "execution_count": 13,
   "id": "3ffb5e01",
   "metadata": {},
   "outputs": [
    {
     "name": "stdout",
     "output_type": "stream",
     "text": [
      "        Unnamed: 0                                               text  \\\n",
      "0                0                                               text   \n",
      "1                1  rising cases of covid does not alarm me rising...   \n",
      "2                2  please vote for chicagoindiaresolution marking...   \n",
      "3                3  wishing all of you eidaladha hazrat ibrahim as...   \n",
      "4                4  daily coronavirus cases in india top for first...   \n",
      "...            ...                                                ...   \n",
      "134343      134343  happydiwali to india from dgisi and dgispr you...   \n",
      "134344      134344  india has been involved in many countries with...   \n",
      "134345      134345  does anybody know website which ships pre orde...   \n",
      "134346      134346  what hinted few weeks back in an interview wit...   \n",
      "134347      134347  this is just slice of what we have pakistan na...   \n",
      "\n",
      "        sentiment  \n",
      "0               0  \n",
      "1               1  \n",
      "2               0  \n",
      "3               1  \n",
      "4               1  \n",
      "...           ...  \n",
      "134343          1  \n",
      "134344          1  \n",
      "134345          0  \n",
      "134346          0  \n",
      "134347          0  \n",
      "\n",
      "[134330 rows x 3 columns]\n"
     ]
    }
   ],
   "source": [
    "# Handling outliers\n",
    "df = df[(np.abs(df['sentiment'] - df['sentiment'].mean()) / df['sentiment'].std()) < 3]\n",
    "print(df)"
   ]
  },
  {
   "cell_type": "code",
   "execution_count": 16,
   "id": "bcb9c9b4",
   "metadata": {},
   "outputs": [
    {
     "name": "stdout",
     "output_type": "stream",
     "text": [
      "        Unnamed: 0                                               text  \\\n",
      "0                0                                               text   \n",
      "1                1  rising cases of covid does not alarm me rising...   \n",
      "2                2  please vote for chicagoindiaresolution marking...   \n",
      "3                3  wishing all of you eidaladha hazrat ibrahim as...   \n",
      "4                4  daily coronavirus cases in india top for first...   \n",
      "...            ...                                                ...   \n",
      "134343      134343  happydiwali to india from dgisi and dgispr you...   \n",
      "134344      134344  india has been involved in many countries with...   \n",
      "134345      134345  does anybody know website which ships pre orde...   \n",
      "134346      134346  what hinted few weeks back in an interview wit...   \n",
      "134347      134347  this is just slice of what we have pakistan na...   \n",
      "\n",
      "        sentiment  \n",
      "0               0  \n",
      "1               1  \n",
      "2               0  \n",
      "3               1  \n",
      "4               1  \n",
      "...           ...  \n",
      "134343          1  \n",
      "134344          1  \n",
      "134345          0  \n",
      "134346          0  \n",
      "134347          0  \n",
      "\n",
      "[134330 rows x 3 columns]\n"
     ]
    }
   ],
   "source": [
    "# Handling incorrect data types\n",
    "df['sentiment'] = pd.to_numeric(df['sentiment'], errors='coerce')  # Convert a numerical column to numerical data type\n",
    "print(df)"
   ]
  },
  {
   "cell_type": "code",
   "execution_count": 18,
   "id": "4a72a4ce",
   "metadata": {},
   "outputs": [
    {
     "name": "stdout",
     "output_type": "stream",
     "text": [
      "        Unnamed: 0                                               text  \\\n",
      "0                0                                               text   \n",
      "1                1  rising cases of covid does not alarm me rising...   \n",
      "2                2  please vote for chicagoindiaresolution marking...   \n",
      "3                3  wishing all of you eidaladha hazrat ibrahim as...   \n",
      "4                4  daily coronavirus cases in india top for first...   \n",
      "...            ...                                                ...   \n",
      "134343      134343  happydiwali to india from dgisi and dgispr you...   \n",
      "134344      134344  india has been involved in many countries with...   \n",
      "134345      134345  does anybody know website which ships pre orde...   \n",
      "134346      134346  what hinted few weeks back in an interview wit...   \n",
      "134347      134347  this is just slice of what we have pakistan na...   \n",
      "\n",
      "        sentiment  \n",
      "0               0  \n",
      "1               1  \n",
      "2               0  \n",
      "3               1  \n",
      "4               1  \n",
      "...           ...  \n",
      "134343          1  \n",
      "134344          1  \n",
      "134345          0  \n",
      "134346          0  \n",
      "134347          0  \n",
      "\n",
      "[134330 rows x 3 columns]\n"
     ]
    }
   ],
   "source": [
    "# Handling inconsistent data\n",
    "df['text'] = df['text'].str.lower()  # Convert all values to lowercase\n",
    "df['text'] = df['text'].replace({'typo1': 'correct1', 'category1': 'category2'})\n",
    "print(df)# Replace values with correct ones"
   ]
  },
  {
   "cell_type": "code",
   "execution_count": 21,
   "id": "8b4e3eee",
   "metadata": {},
   "outputs": [
    {
     "name": "stdout",
     "output_type": "stream",
     "text": [
      "        Unnamed: 0                                               text  \\\n",
      "1                1  rising cases of covid does not alarm me rising...   \n",
      "2                2  please vote for chicagoindiaresolution marking...   \n",
      "3                3  wishing all of you eidaladha hazrat ibrahim as...   \n",
      "4                4  daily coronavirus cases in india top for first...   \n",
      "5                5  sitting here india style watching the raindrop...   \n",
      "...            ...                                                ...   \n",
      "134343      134343  happydiwali to india from dgisi and dgispr you...   \n",
      "134344      134344  india has been involved in many countries with...   \n",
      "134345      134345  does anybody know website which ships pre orde...   \n",
      "134346      134346  what hinted few weeks back in an interview wit...   \n",
      "134347      134347  this is just slice of what we have pakistan na...   \n",
      "\n",
      "        sentiment  \n",
      "1               1  \n",
      "2               0  \n",
      "3               1  \n",
      "4               1  \n",
      "5               0  \n",
      "...           ...  \n",
      "134343          1  \n",
      "134344          1  \n",
      "134345          0  \n",
      "134346          0  \n",
      "134347          0  \n",
      "\n",
      "[130615 rows x 3 columns]\n"
     ]
    }
   ],
   "source": [
    "# Remove rows with only one or two words in the text column\n",
    "df = df[df['text'].str.split().apply(len) > 3]\n",
    "print(df)"
   ]
  },
  {
   "cell_type": "code",
   "execution_count": 29,
   "id": "3048212c",
   "metadata": {},
   "outputs": [],
   "source": [
    "import langid\n",
    "\n",
    "# Load the dataset\n",
    "df = pd.read_csv('depression.csv')\n",
    "\n",
    "# Identify rows with non-English text\n",
    "def is_english(text):\n",
    "    try:\n",
    "        return langid.classify(text)[0] == 'en' # or the language of your choice\n",
    "    except:\n",
    "        return False\n",
    "\n"
   ]
  },
  {
   "cell_type": "code",
   "execution_count": 27,
   "id": "8724c229",
   "metadata": {},
   "outputs": [],
   "source": [
    "df['is_english'] = df['text'].apply(is_english)\n",
    "df = df[df['is_english'] == True]\n",
    "\n",
    "# Drop the 'is_english' column\n",
    "df.drop('is_english', axis=1, inplace=True)\n"
   ]
  },
  {
   "cell_type": "code",
   "execution_count": 28,
   "id": "c664913a",
   "metadata": {},
   "outputs": [
    {
     "name": "stdout",
     "output_type": "stream",
     "text": [
      "        Unnamed: 0                                               text  \\\n",
      "0                0                                               text   \n",
      "1                1  rising cases of covid does not alarm me rising...   \n",
      "2                2  please vote for chicagoindiaresolution marking...   \n",
      "3                3  wishing all of you eidaladha hazrat ibrahim as...   \n",
      "4                4  daily coronavirus cases in india top for first...   \n",
      "...            ...                                                ...   \n",
      "134343      134343  happydiwali to india from dgisi and dgispr you...   \n",
      "134344      134344  india has been involved in many countries with...   \n",
      "134345      134345  does anybody know website which ships pre orde...   \n",
      "134346      134346  what hinted few weeks back in an interview wit...   \n",
      "134347      134347  this is just slice of what we have pakistan na...   \n",
      "\n",
      "        sentiment  \n",
      "0               0  \n",
      "1               1  \n",
      "2               0  \n",
      "3               1  \n",
      "4               1  \n",
      "...           ...  \n",
      "134343          1  \n",
      "134344          1  \n",
      "134345          0  \n",
      "134346          0  \n",
      "134347          0  \n",
      "\n",
      "[131510 rows x 3 columns]\n"
     ]
    }
   ],
   "source": [
    "print(df)"
   ]
  }
 ],
 "metadata": {
  "kernelspec": {
   "display_name": "Python 3 (ipykernel)",
   "language": "python",
   "name": "python3"
  },
  "language_info": {
   "codemirror_mode": {
    "name": "ipython",
    "version": 3
   },
   "file_extension": ".py",
   "mimetype": "text/x-python",
   "name": "python",
   "nbconvert_exporter": "python",
   "pygments_lexer": "ipython3",
   "version": "3.9.13"
  }
 },
 "nbformat": 4,
 "nbformat_minor": 5
}
